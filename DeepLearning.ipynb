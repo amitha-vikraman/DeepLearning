{
 "cells": [
  {
   "cell_type": "code",
   "execution_count": 21,
   "id": "e9ae6a04",
   "metadata": {},
   "outputs": [],
   "source": [
    "import numpy as np\n",
    "from random import randint\n",
    "from sklearn.utils import shuffle\n",
    "from sklearn.preprocessing import MinMaxScaler\n",
    "import tensorflow as tf\n",
    "from tensorflow import keras\n",
    "from tensorflow.keras.models import Sequential\n",
    "from tensorflow.keras.layers import Activation, Dense\n",
    "from tensorflow.keras.optimizers import Adam\n",
    "from tensorflow.keras.metrics import categorical_crossentropy"
   ]
  },
  {
   "cell_type": "code",
   "execution_count": 22,
   "id": "b752c50b",
   "metadata": {},
   "outputs": [],
   "source": [
    "train_labels = []\n",
    "train_samples = []"
   ]
  },
  {
   "cell_type": "code",
   "execution_count": 23,
   "id": "18dc1367",
   "metadata": {},
   "outputs": [],
   "source": [
    "for i in range(50):\n",
    "    random_younger = randint(13, 64)\n",
    "    train_samples.append(random_younger)\n",
    "    train_labels.append(1)\n",
    "    \n",
    "    random_older = randint(65, 100)\n",
    "    train_samples.append(random_older)\n",
    "    train_labels.append(0)"
   ]
  },
  {
   "cell_type": "code",
   "execution_count": 24,
   "id": "7b6e61fa",
   "metadata": {},
   "outputs": [],
   "source": [
    "for i in range(1000):\n",
    "    random_younger = randint(13, 64)\n",
    "    train_samples.append(random_younger)\n",
    "    train_labels.append(0)\n",
    "    \n",
    "    random_older = randint(65, 100)\n",
    "    train_samples.append(random_older)\n",
    "    train_labels.append(1)"
   ]
  },
  {
   "cell_type": "code",
   "execution_count": 25,
   "id": "c23c5ecb",
   "metadata": {},
   "outputs": [],
   "source": [
    "#shuffle generated data set to avoid patterns in input\n",
    "train_labels = np.array(train_labels)\n",
    "train_samples = np.array(train_samples)\n",
    "train_labels, train_samples = shuffle(train_labels, train_samples)"
   ]
  },
  {
   "cell_type": "code",
   "execution_count": 26,
   "id": "8aa7d718",
   "metadata": {},
   "outputs": [],
   "source": [
    "scaler = MinMaxScaler(feature_range = (0,1))\n",
    "#reshape converts a horizontal array to a 2D vertical array\n",
    "scaled_train_samples = scaler.fit_transform(train_samples.reshape(-1, 1))"
   ]
  },
  {
   "cell_type": "code",
   "execution_count": 30,
   "id": "0e6cd330",
   "metadata": {},
   "outputs": [],
   "source": [
    "model = Sequential([\n",
    "    Dense(units = 16, input_shape = (1,), activation = 'relu'),\n",
    "    Dense(units = 32, activation = 'relu'),\n",
    "    Dense(units = 2, activation = 'softmax')\n",
    "])"
   ]
  },
  {
   "cell_type": "code",
   "execution_count": 31,
   "id": "731d051d",
   "metadata": {},
   "outputs": [],
   "source": [
    "model.compile(optimizer = Adam(learning_rate = 0.0001), loss = 'sparse_categorical_crossentropy', metrics = ['accuracy'])"
   ]
  },
  {
   "cell_type": "code",
   "execution_count": 32,
   "id": "f125ff1a",
   "metadata": {},
   "outputs": [
    {
     "name": "stdout",
     "output_type": "stream",
     "text": [
      "Epoch 1/30\n",
      "210/210 - 2s - loss: 0.6937 - accuracy: 0.5176 - 2s/epoch - 9ms/step\n",
      "Epoch 2/30\n",
      "210/210 - 0s - loss: 0.6628 - accuracy: 0.5548 - 413ms/epoch - 2ms/step\n",
      "Epoch 3/30\n",
      "210/210 - 0s - loss: 0.6325 - accuracy: 0.6495 - 438ms/epoch - 2ms/step\n",
      "Epoch 4/30\n",
      "210/210 - 0s - loss: 0.6021 - accuracy: 0.6976 - 439ms/epoch - 2ms/step\n",
      "Epoch 5/30\n",
      "210/210 - 1s - loss: 0.5744 - accuracy: 0.7519 - 523ms/epoch - 2ms/step\n",
      "Epoch 6/30\n",
      "210/210 - 1s - loss: 0.5465 - accuracy: 0.7762 - 541ms/epoch - 3ms/step\n",
      "Epoch 7/30\n",
      "210/210 - 1s - loss: 0.5187 - accuracy: 0.8000 - 717ms/epoch - 3ms/step\n",
      "Epoch 8/30\n",
      "210/210 - 1s - loss: 0.4913 - accuracy: 0.8190 - 691ms/epoch - 3ms/step\n",
      "Epoch 9/30\n",
      "210/210 - 1s - loss: 0.4651 - accuracy: 0.8319 - 640ms/epoch - 3ms/step\n",
      "Epoch 10/30\n",
      "210/210 - 1s - loss: 0.4404 - accuracy: 0.8533 - 633ms/epoch - 3ms/step\n",
      "Epoch 11/30\n",
      "210/210 - 1s - loss: 0.4169 - accuracy: 0.8624 - 647ms/epoch - 3ms/step\n",
      "Epoch 12/30\n",
      "210/210 - 1s - loss: 0.3948 - accuracy: 0.8733 - 633ms/epoch - 3ms/step\n",
      "Epoch 13/30\n",
      "210/210 - 1s - loss: 0.3744 - accuracy: 0.8876 - 641ms/epoch - 3ms/step\n",
      "Epoch 14/30\n",
      "210/210 - 1s - loss: 0.3562 - accuracy: 0.8957 - 647ms/epoch - 3ms/step\n",
      "Epoch 15/30\n",
      "210/210 - 1s - loss: 0.3405 - accuracy: 0.9000 - 645ms/epoch - 3ms/step\n",
      "Epoch 16/30\n",
      "210/210 - 1s - loss: 0.3269 - accuracy: 0.9048 - 646ms/epoch - 3ms/step\n",
      "Epoch 17/30\n",
      "210/210 - 1s - loss: 0.3152 - accuracy: 0.9133 - 631ms/epoch - 3ms/step\n",
      "Epoch 18/30\n",
      "210/210 - 1s - loss: 0.3054 - accuracy: 0.9157 - 639ms/epoch - 3ms/step\n",
      "Epoch 19/30\n",
      "210/210 - 1s - loss: 0.2968 - accuracy: 0.9200 - 635ms/epoch - 3ms/step\n",
      "Epoch 20/30\n",
      "210/210 - 1s - loss: 0.2895 - accuracy: 0.9200 - 645ms/epoch - 3ms/step\n",
      "Epoch 21/30\n",
      "210/210 - 1s - loss: 0.2835 - accuracy: 0.9262 - 621ms/epoch - 3ms/step\n",
      "Epoch 22/30\n",
      "210/210 - 1s - loss: 0.2779 - accuracy: 0.9219 - 637ms/epoch - 3ms/step\n",
      "Epoch 23/30\n",
      "210/210 - 1s - loss: 0.2736 - accuracy: 0.9324 - 611ms/epoch - 3ms/step\n",
      "Epoch 24/30\n",
      "210/210 - 1s - loss: 0.2699 - accuracy: 0.9271 - 652ms/epoch - 3ms/step\n",
      "Epoch 25/30\n",
      "210/210 - 1s - loss: 0.2664 - accuracy: 0.9300 - 689ms/epoch - 3ms/step\n",
      "Epoch 26/30\n",
      "210/210 - 1s - loss: 0.2635 - accuracy: 0.9310 - 720ms/epoch - 3ms/step\n",
      "Epoch 27/30\n",
      "210/210 - 1s - loss: 0.2611 - accuracy: 0.9314 - 679ms/epoch - 3ms/step\n",
      "Epoch 28/30\n",
      "210/210 - 1s - loss: 0.2587 - accuracy: 0.9329 - 693ms/epoch - 3ms/step\n",
      "Epoch 29/30\n",
      "210/210 - 1s - loss: 0.2569 - accuracy: 0.9329 - 694ms/epoch - 3ms/step\n",
      "Epoch 30/30\n",
      "210/210 - 1s - loss: 0.2553 - accuracy: 0.9357 - 705ms/epoch - 3ms/step\n"
     ]
    },
    {
     "data": {
      "text/plain": [
       "<keras.callbacks.History at 0x1e53c6e8af0>"
      ]
     },
     "execution_count": 32,
     "metadata": {},
     "output_type": "execute_result"
    }
   ],
   "source": [
    "#batch_size is how many samples are included in 1 batch to be processed at one time, verbose = 2 gives max description of output\n",
    "#shuffle = True removes any orders inside the data\n",
    "model.fit(x = scaled_train_samples, y = train_labels, batch_size = 10, epochs = 30, shuffle = True, verbose = 2)"
   ]
  },
  {
   "cell_type": "code",
   "execution_count": null,
   "id": "4e187580",
   "metadata": {},
   "outputs": [],
   "source": []
  }
 ],
 "metadata": {
  "kernelspec": {
   "display_name": "Python 3 (ipykernel)",
   "language": "python",
   "name": "python3"
  },
  "language_info": {
   "codemirror_mode": {
    "name": "ipython",
    "version": 3
   },
   "file_extension": ".py",
   "mimetype": "text/x-python",
   "name": "python",
   "nbconvert_exporter": "python",
   "pygments_lexer": "ipython3",
   "version": "3.9.13"
  }
 },
 "nbformat": 4,
 "nbformat_minor": 5
}
