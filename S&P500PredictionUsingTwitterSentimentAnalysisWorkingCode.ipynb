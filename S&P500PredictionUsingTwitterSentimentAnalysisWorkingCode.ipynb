{
 "cells": [
  {
   "cell_type": "code",
   "execution_count": 1,
   "id": "935773f3",
   "metadata": {},
   "outputs": [],
   "source": [
    "import os\n",
    "import numpy as np\n",
    "import csv\n",
    "import keras\n",
    "import tensorflow\n",
    "import pandas as pd\n",
    "import matplotlib.pyplot as plt\n",
    "from matplotlib.dates import DateFormatter\n",
    "import yfinance as yf\n",
    "import math\n",
    "import time\n",
    "import sklearn.metrics\n",
    "from vaderSentiment.vaderSentiment import SentimentIntensityAnalyzer"
   ]
  },
  {
   "cell_type": "code",
   "execution_count": 2,
   "id": "3a3bfbc2",
   "metadata": {},
   "outputs": [],
   "source": [
    "from tensorflow.keras.layers import LSTM, Dropout, Dense\n",
    "from tensorflow.keras import Sequential\n",
    "from keras.models import Sequential"
   ]
  },
  {
   "cell_type": "code",
   "execution_count": 3,
   "id": "b9aa1fe8",
   "metadata": {},
   "outputs": [],
   "source": [
    "from sklearn.metrics import mean_squared_error\n",
    "from math import sqrt\n",
    "from datetime import datetime, timedelta\n",
    "from sklearn.preprocessing import MinMaxScaler\n",
    "import unicodedata\n",
    "\n",
    "import warnings\n",
    "warnings.filterwarnings(\"ignore\")"
   ]
  },
  {
   "cell_type": "code",
   "execution_count": 4,
   "id": "f84fd569",
   "metadata": {},
   "outputs": [],
   "source": [
    "cpy_tweet = pd.read_csv('Company_Tweet.csv')"
   ]
  },
  {
   "cell_type": "code",
   "execution_count": 5,
   "id": "4bc0eaf5",
   "metadata": {},
   "outputs": [],
   "source": [
    "tweet = pd.read_csv('Tweet.csv')"
   ]
  },
  {
   "cell_type": "code",
   "execution_count": 6,
   "id": "7c2ee00d",
   "metadata": {},
   "outputs": [
    {
     "data": {
      "text/html": [
       "<div>\n",
       "<style scoped>\n",
       "    .dataframe tbody tr th:only-of-type {\n",
       "        vertical-align: middle;\n",
       "    }\n",
       "\n",
       "    .dataframe tbody tr th {\n",
       "        vertical-align: top;\n",
       "    }\n",
       "\n",
       "    .dataframe thead th {\n",
       "        text-align: right;\n",
       "    }\n",
       "</style>\n",
       "<table border=\"1\" class=\"dataframe\">\n",
       "  <thead>\n",
       "    <tr style=\"text-align: right;\">\n",
       "      <th></th>\n",
       "      <th>tweet_id</th>\n",
       "      <th>writer</th>\n",
       "      <th>post_date</th>\n",
       "      <th>body</th>\n",
       "      <th>comment_num</th>\n",
       "      <th>retweet_num</th>\n",
       "      <th>like_num</th>\n",
       "      <th>ticker_symbol</th>\n",
       "    </tr>\n",
       "  </thead>\n",
       "  <tbody>\n",
       "    <tr>\n",
       "      <th>0</th>\n",
       "      <td>550441509175443456</td>\n",
       "      <td>VisualStockRSRC</td>\n",
       "      <td>1420070457</td>\n",
       "      <td>lx21 made $10,008  on $AAPL -Check it out! htt...</td>\n",
       "      <td>0</td>\n",
       "      <td>0</td>\n",
       "      <td>1</td>\n",
       "      <td>AAPL</td>\n",
       "    </tr>\n",
       "    <tr>\n",
       "      <th>1</th>\n",
       "      <td>550441672312512512</td>\n",
       "      <td>KeralaGuy77</td>\n",
       "      <td>1420070496</td>\n",
       "      <td>Insanity of today weirdo massive selling. $aap...</td>\n",
       "      <td>0</td>\n",
       "      <td>0</td>\n",
       "      <td>0</td>\n",
       "      <td>AAPL</td>\n",
       "    </tr>\n",
       "    <tr>\n",
       "      <th>2</th>\n",
       "      <td>550441732014223360</td>\n",
       "      <td>DozenStocks</td>\n",
       "      <td>1420070510</td>\n",
       "      <td>S&amp;P100 #Stocks Performance $HD $LOW $SBUX $TGT...</td>\n",
       "      <td>0</td>\n",
       "      <td>0</td>\n",
       "      <td>0</td>\n",
       "      <td>AMZN</td>\n",
       "    </tr>\n",
       "    <tr>\n",
       "      <th>3</th>\n",
       "      <td>550442977802207232</td>\n",
       "      <td>ShowDreamCar</td>\n",
       "      <td>1420070807</td>\n",
       "      <td>$GM $TSLA: Volkswagen Pushes 2014 Record Recal...</td>\n",
       "      <td>0</td>\n",
       "      <td>0</td>\n",
       "      <td>1</td>\n",
       "      <td>TSLA</td>\n",
       "    </tr>\n",
       "    <tr>\n",
       "      <th>4</th>\n",
       "      <td>550443807834402816</td>\n",
       "      <td>i_Know_First</td>\n",
       "      <td>1420071005</td>\n",
       "      <td>Swing Trading: Up To 8.91% Return In 14 Days h...</td>\n",
       "      <td>0</td>\n",
       "      <td>0</td>\n",
       "      <td>1</td>\n",
       "      <td>AAPL</td>\n",
       "    </tr>\n",
       "  </tbody>\n",
       "</table>\n",
       "</div>"
      ],
      "text/plain": [
       "             tweet_id           writer   post_date  \\\n",
       "0  550441509175443456  VisualStockRSRC  1420070457   \n",
       "1  550441672312512512      KeralaGuy77  1420070496   \n",
       "2  550441732014223360      DozenStocks  1420070510   \n",
       "3  550442977802207232     ShowDreamCar  1420070807   \n",
       "4  550443807834402816     i_Know_First  1420071005   \n",
       "\n",
       "                                                body  comment_num  \\\n",
       "0  lx21 made $10,008  on $AAPL -Check it out! htt...            0   \n",
       "1  Insanity of today weirdo massive selling. $aap...            0   \n",
       "2  S&P100 #Stocks Performance $HD $LOW $SBUX $TGT...            0   \n",
       "3  $GM $TSLA: Volkswagen Pushes 2014 Record Recal...            0   \n",
       "4  Swing Trading: Up To 8.91% Return In 14 Days h...            0   \n",
       "\n",
       "   retweet_num  like_num ticker_symbol  \n",
       "0            0         1          AAPL  \n",
       "1            0         0          AAPL  \n",
       "2            0         0          AMZN  \n",
       "3            0         1          TSLA  \n",
       "4            0         1          AAPL  "
      ]
     },
     "execution_count": 6,
     "metadata": {},
     "output_type": "execute_result"
    }
   ],
   "source": [
    "tweets = pd.merge(tweet,cpy_tweet,on='tweet_id',how='inner')\n",
    "tweets.head()"
   ]
  },
  {
   "cell_type": "code",
   "execution_count": 7,
   "id": "d00075ba",
   "metadata": {},
   "outputs": [
    {
     "data": {
      "text/plain": [
       "0   2015-01-01\n",
       "1   2015-01-01\n",
       "2   2015-01-01\n",
       "3   2015-01-01\n",
       "4   2015-01-01\n",
       "Name: date, dtype: datetime64[ns]"
      ]
     },
     "execution_count": 7,
     "metadata": {},
     "output_type": "execute_result"
    }
   ],
   "source": [
    "tweets['post_date'] = pd.to_datetime(tweets['post_date'], unit='s')\n",
    "tweets['date'] = pd.to_datetime(tweets['post_date'].apply(lambda date: date.date()))\n",
    "tweets['date'].head()"
   ]
  },
  {
   "cell_type": "code",
   "execution_count": 8,
   "id": "d9307354",
   "metadata": {},
   "outputs": [],
   "source": [
    "all_tweets = tweets.drop(['tweet_id', 'writer', 'post_date'],axis=1)"
   ]
  },
  {
   "cell_type": "code",
   "execution_count": 9,
   "id": "d92ae7ed",
   "metadata": {},
   "outputs": [
    {
     "data": {
      "text/plain": [
       "body             0\n",
       "comment_num      0\n",
       "retweet_num      0\n",
       "like_num         0\n",
       "ticker_symbol    0\n",
       "date             0\n",
       "dtype: int64"
      ]
     },
     "execution_count": 9,
     "metadata": {},
     "output_type": "execute_result"
    }
   ],
   "source": [
    "all_tweets.isna().sum()"
   ]
  },
  {
   "cell_type": "code",
   "execution_count": 10,
   "id": "844e446e",
   "metadata": {},
   "outputs": [
    {
     "data": {
      "text/plain": [
       "AAPL     1425013\n",
       "TSLA     1096868\n",
       "AMZN      718715\n",
       "GOOG      392569\n",
       "MSFT      375711\n",
       "GOOGL     327569\n",
       "Name: ticker_symbol, dtype: int64"
      ]
     },
     "execution_count": 10,
     "metadata": {},
     "output_type": "execute_result"
    }
   ],
   "source": [
    "tweets.ticker_symbol.value_counts()"
   ]
  },
  {
   "cell_type": "code",
   "execution_count": 11,
   "id": "6dbd1b22",
   "metadata": {},
   "outputs": [],
   "source": [
    "sentiment_analyzer = SentimentIntensityAnalyzer()"
   ]
  },
  {
   "cell_type": "code",
   "execution_count": 12,
   "id": "f8535485",
   "metadata": {},
   "outputs": [],
   "source": [
    "def initialize_dataframe(df):\n",
    "    sent_df = df.copy()\n",
    "    sent_df[\"sentiment_score\"] = ''\n",
    "    sent_df[\"Negative\"] = ''\n",
    "    sent_df[\"Neutral\"] = ''\n",
    "    sent_df[\"Positive\"] = ''\n",
    "    sent_df.head()\n",
    "    return sent_df"
   ]
  },
  {
   "cell_type": "code",
   "execution_count": 13,
   "id": "b37a0f65",
   "metadata": {},
   "outputs": [],
   "source": [
    "def sentiment_score(sent_df, sentiment_analyzer):\n",
    "    for indx, row in sent_df.T.iteritems():\n",
    "        sentence_i = unicodedata.normalize('NFKD', sent_df.loc[indx, 'body'])\n",
    "        sentence_sentiment = sentiment_analyzer.polarity_scores(sentence_i)\n",
    "        sent_df.at[indx, 'sentiment_score'] = sentence_sentiment['compound']\n",
    "        sent_df.at[indx, 'Negative'] = sentence_sentiment['neg']\n",
    "        sent_df.at[indx, 'Neutral'] = sentence_sentiment['neu']\n",
    "        sent_df.at[indx, 'Positive'] = sentence_sentiment['pos']\n",
    "    return sent_df"
   ]
  },
  {
   "cell_type": "code",
   "execution_count": 14,
   "id": "34ebaee5",
   "metadata": {},
   "outputs": [],
   "source": [
    "def process_data_frame(sent_df):\n",
    "    sent_df2 = sent_df.copy() # default:true\n",
    "    sent_df2['date'] = pd.to_datetime(sent_df2['date'])\n",
    "    sent_df2['sentiment_score'] = pd.to_numeric(sent_df2['sentiment_score'], errors='coerce')\n",
    "    sent_df2 = sent_df2[['date', 'body', 'sentiment_score']]\n",
    "    return sent_df2"
   ]
  },
  {
   "cell_type": "code",
   "execution_count": 15,
   "id": "e3687e85",
   "metadata": {},
   "outputs": [],
   "source": [
    "def avg_sentiment_scores(sent_df2):\n",
    "    twitter_df = sent_df2.groupby([sent_df2['date']]).mean()\n",
    "    return twitter_df"
   ]
  },
  {
   "cell_type": "code",
   "execution_count": 16,
   "id": "a07e65ad",
   "metadata": {},
   "outputs": [],
   "source": [
    "# Combine sentiment scores with stock price data\n",
    "def combine_data(sp500_data,twitter_df,column):\n",
    "    sp500_data[column] = 0\n",
    "    for date in sp500_data.index:\n",
    "        date_str = date.strftime('%Y-%m-%d')\n",
    "        for i in range(len(twitter_df)):\n",
    "            if twitter_df.index[i].strftime('%Y-%m-%d')  == date_str:\n",
    "                sp500_data.at[date, column] = twitter_df['sentiment_score'][i]\n",
    "    return sp500_data"
   ]
  },
  {
   "cell_type": "code",
   "execution_count": 17,
   "id": "ff2a84f6",
   "metadata": {},
   "outputs": [],
   "source": [
    "sp500_data = pd.read_csv('S&P500_new.csv')\n",
    "sp500_data['Date'] = pd.to_datetime(sp500_data['Date'])\n",
    "sp500_data.set_index('Date', inplace=True)"
   ]
  },
  {
   "cell_type": "code",
   "execution_count": 18,
   "id": "99a8b80a",
   "metadata": {},
   "outputs": [],
   "source": [
    "inflation_rate = pd.read_csv('InflationRates_fred.csv')\n",
    "inflation_rate['Date'] = pd.to_datetime(inflation_rate['Date'])"
   ]
  },
  {
   "cell_type": "code",
   "execution_count": 19,
   "id": "985f1d9e",
   "metadata": {},
   "outputs": [],
   "source": [
    "sp500_data = pd.merge(sp500_data,inflation_rate,on='Date',how='left')\n",
    "sp500_data['Date'] = pd.to_datetime(sp500_data['Date'])\n",
    "sp500_data.set_index('Date', inplace=True)"
   ]
  },
  {
   "cell_type": "code",
   "execution_count": 20,
   "id": "305409d2",
   "metadata": {},
   "outputs": [],
   "source": [
    "x = inflation_rate['Rate'].median()\n",
    "sp500_data['Rate'].fillna(x, inplace=True)"
   ]
  },
  {
   "cell_type": "code",
   "execution_count": 21,
   "id": "4bcdfe14",
   "metadata": {},
   "outputs": [
    {
     "name": "stdout",
     "output_type": "stream",
     "text": [
      "(718715, 6)\n"
     ]
    },
    {
     "data": {
      "text/html": [
       "<div>\n",
       "<style scoped>\n",
       "    .dataframe tbody tr th:only-of-type {\n",
       "        vertical-align: middle;\n",
       "    }\n",
       "\n",
       "    .dataframe tbody tr th {\n",
       "        vertical-align: top;\n",
       "    }\n",
       "\n",
       "    .dataframe thead th {\n",
       "        text-align: right;\n",
       "    }\n",
       "</style>\n",
       "<table border=\"1\" class=\"dataframe\">\n",
       "  <thead>\n",
       "    <tr style=\"text-align: right;\">\n",
       "      <th></th>\n",
       "      <th>body</th>\n",
       "      <th>comment_num</th>\n",
       "      <th>retweet_num</th>\n",
       "      <th>like_num</th>\n",
       "      <th>ticker_symbol</th>\n",
       "      <th>date</th>\n",
       "    </tr>\n",
       "  </thead>\n",
       "  <tbody>\n",
       "    <tr>\n",
       "      <th>2</th>\n",
       "      <td>S&amp;P100 #Stocks Performance $HD $LOW $SBUX $TGT...</td>\n",
       "      <td>0</td>\n",
       "      <td>0</td>\n",
       "      <td>0</td>\n",
       "      <td>AMZN</td>\n",
       "      <td>2015-01-01</td>\n",
       "    </tr>\n",
       "    <tr>\n",
       "      <th>27</th>\n",
       "      <td>Top 10 searched #stocks of #2014 $AAPL $FB $BA...</td>\n",
       "      <td>0</td>\n",
       "      <td>0</td>\n",
       "      <td>2</td>\n",
       "      <td>AMZN</td>\n",
       "      <td>2015-01-01</td>\n",
       "    </tr>\n",
       "    <tr>\n",
       "      <th>37</th>\n",
       "      <td>RT @SeekingAlpha: A Look At BlackBerry's Deals...</td>\n",
       "      <td>0</td>\n",
       "      <td>0</td>\n",
       "      <td>0</td>\n",
       "      <td>AMZN</td>\n",
       "      <td>2015-01-01</td>\n",
       "    </tr>\n",
       "    <tr>\n",
       "      <th>38</th>\n",
       "      <td>Jeff Bezos lost $7.4 billion in Amazon's worst...</td>\n",
       "      <td>21</td>\n",
       "      <td>139</td>\n",
       "      <td>57</td>\n",
       "      <td>AMZN</td>\n",
       "      <td>2015-01-01</td>\n",
       "    </tr>\n",
       "    <tr>\n",
       "      <th>39</th>\n",
       "      <td>Jeff Bezos lost $7.4 billion in #Amazon worst ...</td>\n",
       "      <td>1</td>\n",
       "      <td>2</td>\n",
       "      <td>1</td>\n",
       "      <td>AMZN</td>\n",
       "      <td>2015-01-01</td>\n",
       "    </tr>\n",
       "  </tbody>\n",
       "</table>\n",
       "</div>"
      ],
      "text/plain": [
       "                                                 body  comment_num  \\\n",
       "2   S&P100 #Stocks Performance $HD $LOW $SBUX $TGT...            0   \n",
       "27  Top 10 searched #stocks of #2014 $AAPL $FB $BA...            0   \n",
       "37  RT @SeekingAlpha: A Look At BlackBerry's Deals...            0   \n",
       "38  Jeff Bezos lost $7.4 billion in Amazon's worst...           21   \n",
       "39  Jeff Bezos lost $7.4 billion in #Amazon worst ...            1   \n",
       "\n",
       "    retweet_num  like_num ticker_symbol       date  \n",
       "2             0         0          AMZN 2015-01-01  \n",
       "27            0         2          AMZN 2015-01-01  \n",
       "37            0         0          AMZN 2015-01-01  \n",
       "38          139        57          AMZN 2015-01-01  \n",
       "39            2         1          AMZN 2015-01-01  "
      ]
     },
     "execution_count": 21,
     "metadata": {},
     "output_type": "execute_result"
    }
   ],
   "source": [
    "stock_name = 'AMZN'\n",
    "df = all_tweets[all_tweets['ticker_symbol'] == stock_name]\n",
    "print(df.shape)\n",
    "df.head()"
   ]
  },
  {
   "cell_type": "code",
   "execution_count": 22,
   "id": "22e55008",
   "metadata": {},
   "outputs": [],
   "source": [
    "sent_df = initialize_dataframe(df)\n",
    "sent_df = sentiment_score(sent_df, sentiment_analyzer)\n",
    "sent_df2 = process_data_frame(sent_df)\n",
    "twitter_df = avg_sentiment_scores(sent_df2)"
   ]
  },
  {
   "cell_type": "code",
   "execution_count": 23,
   "id": "a87f0dac",
   "metadata": {},
   "outputs": [],
   "source": [
    "sp500_data = combine_data(sp500_data,twitter_df,'ss_amzn')"
   ]
  },
  {
   "cell_type": "code",
   "execution_count": 24,
   "id": "c41be806",
   "metadata": {},
   "outputs": [
    {
     "name": "stdout",
     "output_type": "stream",
     "text": [
      "(1425013, 6)\n"
     ]
    },
    {
     "data": {
      "text/html": [
       "<div>\n",
       "<style scoped>\n",
       "    .dataframe tbody tr th:only-of-type {\n",
       "        vertical-align: middle;\n",
       "    }\n",
       "\n",
       "    .dataframe tbody tr th {\n",
       "        vertical-align: top;\n",
       "    }\n",
       "\n",
       "    .dataframe thead th {\n",
       "        text-align: right;\n",
       "    }\n",
       "</style>\n",
       "<table border=\"1\" class=\"dataframe\">\n",
       "  <thead>\n",
       "    <tr style=\"text-align: right;\">\n",
       "      <th></th>\n",
       "      <th>body</th>\n",
       "      <th>comment_num</th>\n",
       "      <th>retweet_num</th>\n",
       "      <th>like_num</th>\n",
       "      <th>ticker_symbol</th>\n",
       "      <th>date</th>\n",
       "    </tr>\n",
       "  </thead>\n",
       "  <tbody>\n",
       "    <tr>\n",
       "      <th>0</th>\n",
       "      <td>lx21 made $10,008  on $AAPL -Check it out! htt...</td>\n",
       "      <td>0</td>\n",
       "      <td>0</td>\n",
       "      <td>1</td>\n",
       "      <td>AAPL</td>\n",
       "      <td>2015-01-01</td>\n",
       "    </tr>\n",
       "    <tr>\n",
       "      <th>1</th>\n",
       "      <td>Insanity of today weirdo massive selling. $aap...</td>\n",
       "      <td>0</td>\n",
       "      <td>0</td>\n",
       "      <td>0</td>\n",
       "      <td>AAPL</td>\n",
       "      <td>2015-01-01</td>\n",
       "    </tr>\n",
       "    <tr>\n",
       "      <th>4</th>\n",
       "      <td>Swing Trading: Up To 8.91% Return In 14 Days h...</td>\n",
       "      <td>0</td>\n",
       "      <td>0</td>\n",
       "      <td>1</td>\n",
       "      <td>AAPL</td>\n",
       "      <td>2015-01-01</td>\n",
       "    </tr>\n",
       "    <tr>\n",
       "      <th>6</th>\n",
       "      <td>Swing Trading: Up To 8.91% Return In 14 Days h...</td>\n",
       "      <td>0</td>\n",
       "      <td>0</td>\n",
       "      <td>1</td>\n",
       "      <td>AAPL</td>\n",
       "      <td>2015-01-01</td>\n",
       "    </tr>\n",
       "    <tr>\n",
       "      <th>8</th>\n",
       "      <td>Swing Trading: Up To 8.91% Return In 14 Days h...</td>\n",
       "      <td>0</td>\n",
       "      <td>0</td>\n",
       "      <td>1</td>\n",
       "      <td>AAPL</td>\n",
       "      <td>2015-01-01</td>\n",
       "    </tr>\n",
       "  </tbody>\n",
       "</table>\n",
       "</div>"
      ],
      "text/plain": [
       "                                                body  comment_num  \\\n",
       "0  lx21 made $10,008  on $AAPL -Check it out! htt...            0   \n",
       "1  Insanity of today weirdo massive selling. $aap...            0   \n",
       "4  Swing Trading: Up To 8.91% Return In 14 Days h...            0   \n",
       "6  Swing Trading: Up To 8.91% Return In 14 Days h...            0   \n",
       "8  Swing Trading: Up To 8.91% Return In 14 Days h...            0   \n",
       "\n",
       "   retweet_num  like_num ticker_symbol       date  \n",
       "0            0         1          AAPL 2015-01-01  \n",
       "1            0         0          AAPL 2015-01-01  \n",
       "4            0         1          AAPL 2015-01-01  \n",
       "6            0         1          AAPL 2015-01-01  \n",
       "8            0         1          AAPL 2015-01-01  "
      ]
     },
     "execution_count": 24,
     "metadata": {},
     "output_type": "execute_result"
    }
   ],
   "source": [
    "stock_name = 'AAPL'\n",
    "df = all_tweets[all_tweets['ticker_symbol'] == stock_name]\n",
    "print(df.shape)\n",
    "df.head()"
   ]
  },
  {
   "cell_type": "code",
   "execution_count": 25,
   "id": "410dd3d5",
   "metadata": {},
   "outputs": [],
   "source": [
    "sent_df = initialize_dataframe(df)\n",
    "sent_df = sentiment_score(sent_df, sentiment_analyzer)\n",
    "sent_df2 = process_data_frame(sent_df)\n",
    "twitter_df = avg_sentiment_scores(sent_df2)"
   ]
  },
  {
   "cell_type": "code",
   "execution_count": 26,
   "id": "ee74e655",
   "metadata": {},
   "outputs": [],
   "source": [
    "sp500_data = combine_data(sp500_data,twitter_df,'ss_aapl')"
   ]
  },
  {
   "cell_type": "code",
   "execution_count": 27,
   "id": "ba704ee1",
   "metadata": {},
   "outputs": [
    {
     "name": "stdout",
     "output_type": "stream",
     "text": [
      "(375711, 6)\n"
     ]
    },
    {
     "data": {
      "text/html": [
       "<div>\n",
       "<style scoped>\n",
       "    .dataframe tbody tr th:only-of-type {\n",
       "        vertical-align: middle;\n",
       "    }\n",
       "\n",
       "    .dataframe tbody tr th {\n",
       "        vertical-align: top;\n",
       "    }\n",
       "\n",
       "    .dataframe thead th {\n",
       "        text-align: right;\n",
       "    }\n",
       "</style>\n",
       "<table border=\"1\" class=\"dataframe\">\n",
       "  <thead>\n",
       "    <tr style=\"text-align: right;\">\n",
       "      <th></th>\n",
       "      <th>body</th>\n",
       "      <th>comment_num</th>\n",
       "      <th>retweet_num</th>\n",
       "      <th>like_num</th>\n",
       "      <th>ticker_symbol</th>\n",
       "      <th>date</th>\n",
       "    </tr>\n",
       "  </thead>\n",
       "  <tbody>\n",
       "    <tr>\n",
       "      <th>19</th>\n",
       "      <td>$UNP $ORCL $QCOM $MSFT $AAPL Top scoring mega ...</td>\n",
       "      <td>0</td>\n",
       "      <td>0</td>\n",
       "      <td>0</td>\n",
       "      <td>MSFT</td>\n",
       "      <td>2015-01-01</td>\n",
       "    </tr>\n",
       "    <tr>\n",
       "      <th>43</th>\n",
       "      <td>http://StockAviator.com....Top penny stocks, N...</td>\n",
       "      <td>0</td>\n",
       "      <td>0</td>\n",
       "      <td>0</td>\n",
       "      <td>MSFT</td>\n",
       "      <td>2015-01-01</td>\n",
       "    </tr>\n",
       "    <tr>\n",
       "      <th>46</th>\n",
       "      <td>Want alerts for momentum stocks about to run? ...</td>\n",
       "      <td>0</td>\n",
       "      <td>0</td>\n",
       "      <td>0</td>\n",
       "      <td>MSFT</td>\n",
       "      <td>2015-01-01</td>\n",
       "    </tr>\n",
       "    <tr>\n",
       "      <th>75</th>\n",
       "      <td>IMHO, $MSFT shockingly remains MILDLY undervalued</td>\n",
       "      <td>1</td>\n",
       "      <td>0</td>\n",
       "      <td>0</td>\n",
       "      <td>MSFT</td>\n",
       "      <td>2015-01-01</td>\n",
       "    </tr>\n",
       "    <tr>\n",
       "      <th>82</th>\n",
       "      <td>@CNNMoney I like $MSFT with him in charge. He ...</td>\n",
       "      <td>0</td>\n",
       "      <td>0</td>\n",
       "      <td>0</td>\n",
       "      <td>MSFT</td>\n",
       "      <td>2015-01-01</td>\n",
       "    </tr>\n",
       "  </tbody>\n",
       "</table>\n",
       "</div>"
      ],
      "text/plain": [
       "                                                 body  comment_num  \\\n",
       "19  $UNP $ORCL $QCOM $MSFT $AAPL Top scoring mega ...            0   \n",
       "43  http://StockAviator.com....Top penny stocks, N...            0   \n",
       "46  Want alerts for momentum stocks about to run? ...            0   \n",
       "75  IMHO, $MSFT shockingly remains MILDLY undervalued            1   \n",
       "82  @CNNMoney I like $MSFT with him in charge. He ...            0   \n",
       "\n",
       "    retweet_num  like_num ticker_symbol       date  \n",
       "19            0         0          MSFT 2015-01-01  \n",
       "43            0         0          MSFT 2015-01-01  \n",
       "46            0         0          MSFT 2015-01-01  \n",
       "75            0         0          MSFT 2015-01-01  \n",
       "82            0         0          MSFT 2015-01-01  "
      ]
     },
     "execution_count": 27,
     "metadata": {},
     "output_type": "execute_result"
    }
   ],
   "source": [
    "stock_name = 'MSFT'\n",
    "df = all_tweets[all_tweets['ticker_symbol'] == stock_name]\n",
    "print(df.shape)\n",
    "df.head()"
   ]
  },
  {
   "cell_type": "code",
   "execution_count": 28,
   "id": "1de9d561",
   "metadata": {},
   "outputs": [],
   "source": [
    "sent_df = initialize_dataframe(df)\n",
    "sent_df = sentiment_score(sent_df, sentiment_analyzer)\n",
    "sent_df2 = process_data_frame(sent_df)\n",
    "twitter_df = avg_sentiment_scores(sent_df2)"
   ]
  },
  {
   "cell_type": "code",
   "execution_count": 29,
   "id": "faec0d40",
   "metadata": {},
   "outputs": [],
   "source": [
    "sp500_data = combine_data(sp500_data,twitter_df,'ss_msft')"
   ]
  },
  {
   "cell_type": "code",
   "execution_count": 30,
   "id": "fcb00cf5",
   "metadata": {},
   "outputs": [
    {
     "name": "stdout",
     "output_type": "stream",
     "text": [
      "(327569, 6)\n"
     ]
    },
    {
     "data": {
      "text/html": [
       "<div>\n",
       "<style scoped>\n",
       "    .dataframe tbody tr th:only-of-type {\n",
       "        vertical-align: middle;\n",
       "    }\n",
       "\n",
       "    .dataframe tbody tr th {\n",
       "        vertical-align: top;\n",
       "    }\n",
       "\n",
       "    .dataframe thead th {\n",
       "        text-align: right;\n",
       "    }\n",
       "</style>\n",
       "<table border=\"1\" class=\"dataframe\">\n",
       "  <thead>\n",
       "    <tr style=\"text-align: right;\">\n",
       "      <th></th>\n",
       "      <th>body</th>\n",
       "      <th>comment_num</th>\n",
       "      <th>retweet_num</th>\n",
       "      <th>like_num</th>\n",
       "      <th>ticker_symbol</th>\n",
       "      <th>date</th>\n",
       "    </tr>\n",
       "  </thead>\n",
       "  <tbody>\n",
       "    <tr>\n",
       "      <th>30</th>\n",
       "      <td>2014 The Year in Review (Part II - THE END) ht...</td>\n",
       "      <td>0</td>\n",
       "      <td>2</td>\n",
       "      <td>2</td>\n",
       "      <td>GOOGL</td>\n",
       "      <td>2015-01-01</td>\n",
       "    </tr>\n",
       "    <tr>\n",
       "      <th>59</th>\n",
       "      <td>Prediction: $TWTR $GRPN $YELP are acquired as ...</td>\n",
       "      <td>0</td>\n",
       "      <td>0</td>\n",
       "      <td>1</td>\n",
       "      <td>GOOGL</td>\n",
       "      <td>2015-01-01</td>\n",
       "    </tr>\n",
       "    <tr>\n",
       "      <th>62</th>\n",
       "      <td>Prediction: PayPal post-spinoff and $PAY are n...</td>\n",
       "      <td>0</td>\n",
       "      <td>0</td>\n",
       "      <td>0</td>\n",
       "      <td>GOOGL</td>\n",
       "      <td>2015-01-01</td>\n",
       "    </tr>\n",
       "    <tr>\n",
       "      <th>72</th>\n",
       "      <td>Trailing Stop taken out on my $GOOGL #trade ta...</td>\n",
       "      <td>0</td>\n",
       "      <td>0</td>\n",
       "      <td>0</td>\n",
       "      <td>GOOGL</td>\n",
       "      <td>2015-01-01</td>\n",
       "    </tr>\n",
       "    <tr>\n",
       "      <th>87</th>\n",
       "      <td>#SENTISHIFTUP $X $T $GOOGL $AMRN $UPIP $CNAT $...</td>\n",
       "      <td>0</td>\n",
       "      <td>0</td>\n",
       "      <td>0</td>\n",
       "      <td>GOOGL</td>\n",
       "      <td>2015-01-01</td>\n",
       "    </tr>\n",
       "  </tbody>\n",
       "</table>\n",
       "</div>"
      ],
      "text/plain": [
       "                                                 body  comment_num  \\\n",
       "30  2014 The Year in Review (Part II - THE END) ht...            0   \n",
       "59  Prediction: $TWTR $GRPN $YELP are acquired as ...            0   \n",
       "62  Prediction: PayPal post-spinoff and $PAY are n...            0   \n",
       "72  Trailing Stop taken out on my $GOOGL #trade ta...            0   \n",
       "87  #SENTISHIFTUP $X $T $GOOGL $AMRN $UPIP $CNAT $...            0   \n",
       "\n",
       "    retweet_num  like_num ticker_symbol       date  \n",
       "30            2         2         GOOGL 2015-01-01  \n",
       "59            0         1         GOOGL 2015-01-01  \n",
       "62            0         0         GOOGL 2015-01-01  \n",
       "72            0         0         GOOGL 2015-01-01  \n",
       "87            0         0         GOOGL 2015-01-01  "
      ]
     },
     "execution_count": 30,
     "metadata": {},
     "output_type": "execute_result"
    }
   ],
   "source": [
    "stock_name = 'GOOGL'\n",
    "df = all_tweets[all_tweets['ticker_symbol'] == stock_name]\n",
    "print(df.shape)\n",
    "df.head()"
   ]
  },
  {
   "cell_type": "code",
   "execution_count": 31,
   "id": "b93c663a",
   "metadata": {},
   "outputs": [],
   "source": [
    "sent_df = initialize_dataframe(df)\n",
    "sent_df = sentiment_score(sent_df, sentiment_analyzer)\n",
    "sent_df2 = process_data_frame(sent_df)\n",
    "twitter_df = avg_sentiment_scores(sent_df2)"
   ]
  },
  {
   "cell_type": "code",
   "execution_count": 32,
   "id": "2ef9ef31",
   "metadata": {},
   "outputs": [],
   "source": [
    "sp500_data = combine_data(sp500_data,twitter_df,'ss_googl')"
   ]
  },
  {
   "cell_type": "code",
   "execution_count": 33,
   "id": "4750873a",
   "metadata": {},
   "outputs": [
    {
     "data": {
      "text/plain": [
       "Close        1.000000\n",
       "Adj Close    1.000000\n",
       "Low          0.999466\n",
       "High         0.999314\n",
       "Open         0.998770\n",
       "ss_aapl      0.625639\n",
       "ss_msft      0.560121\n",
       "ss_googl     0.545013\n",
       "Rate         0.501721\n",
       "ss_amzn      0.490895\n",
       "Volume      -0.205891\n",
       "Name: Close, dtype: float64"
      ]
     },
     "execution_count": 33,
     "metadata": {},
     "output_type": "execute_result"
    }
   ],
   "source": [
    "corr_matrix = sp500_data.corr()\n",
    "corr_matrix['Close'].sort_values(ascending = False)"
   ]
  },
  {
   "cell_type": "code",
   "execution_count": 34,
   "id": "6270cae7",
   "metadata": {},
   "outputs": [],
   "source": [
    "sp500_data.to_csv('sp500_data.csv')"
   ]
  },
  {
   "cell_type": "code",
   "execution_count": 35,
   "id": "bc8a5d2a",
   "metadata": {},
   "outputs": [],
   "source": [
    "# Select the input features and target variable\n",
    "features = ['Open','Close', 'ss_amzn', 'ss_aapl', 'ss_msft', 'ss_googl', 'Rate' ]"
   ]
  },
  {
   "cell_type": "code",
   "execution_count": 36,
   "id": "17244e58",
   "metadata": {},
   "outputs": [
    {
     "data": {
      "image/png": "[encoded data removed]",
      "text/plain": [
       "<Figure size 640x480 with 2 Axes>"
      ]
     },
     "metadata": {},
     "output_type": "display_data"
    }
   ],
   "source": [
    "import seaborn as sns\n",
    "heatmap = sns.heatmap(sp500_data[features].corr(), vmin=-1, vmax=1, annot=True)\n",
    "heatmap.set_title('Correlation Heatmap', fontdict={'fontsize':12}, pad=12);"
   ]
  },
  {
   "cell_type": "code",
   "execution_count": 37,
   "id": "6ba4ca6a",
   "metadata": {},
   "outputs": [
    {
     "data": {
      "text/plain": [
       "1132"
      ]
     },
     "execution_count": 37,
     "metadata": {},
     "output_type": "execute_result"
    }
   ],
   "source": [
    "dataset = sp500_data.values\n",
    "#Get the number of rows to train the model on\n",
    "training_data_len = math.ceil(len(dataset)*.9)\n",
    "training_data_len"
   ]
  },
  {
   "cell_type": "code",
   "execution_count": 38,
   "id": "f57d69a6",
   "metadata": {},
   "outputs": [],
   "source": [
    "#Scale the data\n",
    "data = sp500_data\n",
    "scaler = MinMaxScaler(feature_range = (0,1))\n",
    "data[features] = scaler.fit_transform(data[features] )\n"
   ]
  },
  {
   "cell_type": "code",
   "execution_count": 39,
   "id": "35f9dad7",
   "metadata": {
    "collapsed": true
   },
   "outputs": [
    {
     "name": "stdout",
     "output_type": "stream",
     "text": [
      "[array([[0.15949576, 0.16238818, 0.39508511, 0.2420562 , 0.69243069,\n",
      "        0.39908833, 0.53      ],\n",
      "       [0.15634123, 0.13572511, 0.51516898, 0.33666389, 0.55575535,\n",
      "        0.96148548, 0.46      ],\n",
      "       [0.13350262, 0.12298894, 0.42063351, 0.3662851 , 0.54775272,\n",
      "        1.        , 0.38      ],\n",
      "       [0.12176148, 0.1394957 , 0.24616847, 0.35658958, 0.59300359,\n",
      "        0.84537092, 0.39      ],\n",
      "       [0.13948634, 0.16518061, 0.38613833, 0.38855041, 0.71565298,\n",
      "        0.67535736, 0.44      ],\n",
      "       [0.162714  , 0.15289813, 0.41288599, 0.34129285, 0.55108639,\n",
      "        0.5906138 , 0.44      ],\n",
      "       [0.15046363, 0.14116833, 0.51127246, 0.35723595, 0.72494744,\n",
      "        0.55805795, 0.39      ],\n",
      "       [0.1401724 , 0.1374616 , 0.49764671, 0.36572394, 0.67943294,\n",
      "        0.60776981, 0.36      ],\n",
      "       [0.13085025, 0.12912672, 0.42135848, 0.27027179, 0.55133719,\n",
      "        0.32288248, 0.39      ],\n",
      "       [0.12756129, 0.11594404, 0.37301085, 0.2133143 , 0.62920638,\n",
      "        0.39453161, 0.4       ],\n",
      "       [0.11235437, 0.13490303, 0.30312235, 0.21025704, 0.52545995,\n",
      "        0.39703183, 0.42      ],\n",
      "       [0.13251946, 0.13712141, 0.581556  , 0.3860066 , 0.59910682,\n",
      "        0.65644346, 0.41      ],\n",
      "       [0.13211625, 0.14390409, 0.54113366, 0.34720065, 0.60628302,\n",
      "        0.74590202, 0.43      ],\n",
      "       [0.14209631, 0.16589645, 0.32830187, 0.29147211, 0.68572269,\n",
      "        0.66642434, 0.43      ],\n",
      "       [0.16238159, 0.15786646, 0.379198  , 0.3408462 , 0.63699355,\n",
      "        0.68032683, 0.42      ],\n",
      "       [0.15349788, 0.16160157, 0.42859974, 0.32870884, 0.53291106,\n",
      "        0.8061644 , 0.43      ],\n",
      "       [0.15168724, 0.14208264, 0.41352664, 0.32200838, 0.40940744,\n",
      "        0.82205154, 0.48      ],\n",
      "       [0.14070995, 0.12267004, 0.57334678, 0.34019625, 0.50456341,\n",
      "        0.69249814, 0.43      ],\n",
      "       [0.11956878, 0.13620001, 0.48643788, 0.29611768, 0.5528359 ,\n",
      "        0.42747082, 0.44      ],\n",
      "       [0.13152215, 0.11758829, 0.49883822, 0.31981411, 0.52780294,\n",
      "        0.55437585, 0.47      ],\n",
      "       [0.11548066, 0.13591649, 0.46586964, 0.28858324, 0.61677759,\n",
      "        0.76604525, 0.47      ],\n",
      "       [0.13389866, 0.15659777, 0.52183489, 0.30382317, 0.50548638,\n",
      "        0.80749524, 0.52      ],\n",
      "       [0.15239462, 0.15055923, 0.41124442, 0.29121912, 0.49522253,\n",
      "        0.95316496, 0.53      ],\n",
      "       [0.14856803, 0.16545002, 0.47976699, 0.29610106, 0.50600134,\n",
      "        0.65216689, 0.52      ],\n",
      "       [0.16188652, 0.16045332, 0.39170535, 0.25484757, 0.66042208,\n",
      "        0.70751304, 0.53      ],\n",
      "       [0.15565517, 0.15426597, 0.52085781, 0.30093276, 0.4924548 ,\n",
      "        0.81496256, 0.53      ],\n",
      "       [0.15276226, 0.16975217, 0.43701032, 0.32906223, 0.49093154,\n",
      "        0.78421885, 0.52      ],\n",
      "       [0.16632129, 0.1697096 , 0.37045739, 0.3472617 , 0.57578296,\n",
      "        0.63366713, 0.5       ],\n",
      "       [0.16733268, 0.18384907, 0.4444073 , 0.32257307, 0.58324212,\n",
      "        0.62608605, 0.48      ],\n",
      "       [0.18062993, 0.18988052, 0.47303904, 0.33209545, 0.53184631,\n",
      "        0.72767989, 0.5       ],\n",
      "       [0.18606901, 0.19225489, 0.45055996, 0.2589593 , 0.53637221,\n",
      "        0.62336652, 0.53      ],\n",
      "       [0.18797161, 0.19178701, 0.58889898, 0.31408682, 0.64778751,\n",
      "        0.68725154, 0.53      ],\n",
      "       [0.18803533, 0.19020652, 0.36626897, 0.29799333, 0.41701014,\n",
      "        0.73413874, 0.56      ],\n",
      "       [0.18690358, 0.19931399, 0.36753378, 0.32501911, 0.5000302 ,\n",
      "        0.55212277, 0.57      ],\n",
      "       [0.1955186 , 0.19886029, 0.4352447 , 0.32821356, 0.57643367,\n",
      "        0.76476773, 0.54      ],\n",
      "       [0.19500229, 0.20298525, 0.51462305, 0.34505371, 0.35922778,\n",
      "        0.62801722, 0.54      ],\n",
      "       [0.1993875 , 0.20183717, 0.5392091 , 0.33707286, 0.55560273,\n",
      "        0.613586  , 0.54      ],\n",
      "       [0.19840426, 0.1996258 , 0.41790448, 0.32188514, 0.51277833,\n",
      "        0.41695281, 0.61      ],\n",
      "       [0.19626113, 0.19520322, 0.36236264, 0.29741922, 0.38773734,\n",
      "        0.56626381, 0.65      ],\n",
      "       [0.19226496, 0.2043389 , 0.35841937, 0.39317727, 0.55750108,\n",
      "        0.51840605, 0.65      ],\n",
      "       [0.19971283, 0.19752793, 0.57557418, 0.37036916, 0.55273795,\n",
      "        0.37143243, 0.68      ],\n",
      "       [0.19402612, 0.19097202, 0.34696431, 0.31225402, 0.49986277,\n",
      "        0.46993246, 0.69      ],\n",
      "       [0.18753317, 0.19275098, 0.32016934, 0.29333357, 0.45909541,\n",
      "        0.53009283, 0.66      ],\n",
      "       [0.18920938, 0.17164447, 0.35461683, 0.28023637, 0.43368845,\n",
      "        0.51093196, 0.65      ],\n",
      "       [0.16893826, 0.17743488, 0.30790814, 0.30615588, 0.48030121,\n",
      "        0.58285822, 0.58      ],\n",
      "       [0.17168958, 0.15243743, 0.31201276, 0.29222246, 0.51158131,\n",
      "        0.52262876, 0.55      ],\n",
      "       [0.14944507, 0.14965911, 0.38222764, 0.33023557, 0.51540565,\n",
      "        0.49375549, 0.54      ],\n",
      "       [0.14690589, 0.16788098, 0.4194186 , 0.37557103, 0.3696429 ,\n",
      "        0.59352829, 0.53      ],\n",
      "       [0.16349918, 0.15898616, 0.414928  , 0.41195879, 0.43615503,\n",
      "        0.55890609, 0.51      ],\n",
      "       [0.15698498, 0.17868228, 0.24872338, 0.3594873 , 0.43267894,\n",
      "        0.67513438, 0.47      ],\n",
      "       [0.17483719, 0.1737849 , 0.32299039, 0.34848981, 0.42289277,\n",
      "        0.46705171, 0.46      ],\n",
      "       [0.16935563, 0.19165948, 0.48498422, 0.37789372, 0.49623136,\n",
      "        0.58844663, 0.52      ],\n",
      "       [0.1876392 , 0.18440901, 0.57088037, 0.39246254, 0.43452076,\n",
      "        0.54345682, 0.61      ],\n",
      "       [0.1817192 , 0.19775478, 0.5182879 , 0.37777082, 0.49386686,\n",
      "        0.41276719, 0.58      ],\n",
      "       [0.19421711, 0.19514647, 0.43173013, 0.3969918 , 0.58230292,\n",
      "        0.56070957, 0.57      ],\n",
      "       [0.19135251, 0.1859895 , 0.34040203, 0.431737  , 0.47451633,\n",
      "        0.54062693, 0.59      ],\n",
      "       [0.18368551, 0.16440818, 0.44441848, 0.09711911, 0.52342029,\n",
      "        0.53646626, 0.63      ],\n",
      "       [0.16023137, 0.16093522, 0.53682564, 0.41042091, 0.54631243,\n",
      "        0.73214403, 0.62      ],\n",
      "       [0.15728907, 0.1643869 , 0.4196645 , 0.48344248, 0.84862034,\n",
      "        0.63570785, 0.58      ],\n",
      "       [0.16318093, 0.18226149, 0.51083553, 0.47365944, 0.47233791,\n",
      "        0.65055072, 0.55      ]])]\n",
      "[array([0.1692559])]\n",
      "[array([[0.15949576, 0.16238818, 0.39508511, 0.2420562 , 0.69243069,\n",
      "        0.39908833, 0.53      ],\n",
      "       [0.15634123, 0.13572511, 0.51516898, 0.33666389, 0.55575535,\n",
      "        0.96148548, 0.46      ],\n",
      "       [0.13350262, 0.12298894, 0.42063351, 0.3662851 , 0.54775272,\n",
      "        1.        , 0.38      ],\n",
      "       [0.12176148, 0.1394957 , 0.24616847, 0.35658958, 0.59300359,\n",
      "        0.84537092, 0.39      ],\n",
      "       [0.13948634, 0.16518061, 0.38613833, 0.38855041, 0.71565298,\n",
      "        0.67535736, 0.44      ],\n",
      "       [0.162714  , 0.15289813, 0.41288599, 0.34129285, 0.55108639,\n",
      "        0.5906138 , 0.44      ],\n",
      "       [0.15046363, 0.14116833, 0.51127246, 0.35723595, 0.72494744,\n",
      "        0.55805795, 0.39      ],\n",
      "       [0.1401724 , 0.1374616 , 0.49764671, 0.36572394, 0.67943294,\n",
      "        0.60776981, 0.36      ],\n",
      "       [0.13085025, 0.12912672, 0.42135848, 0.27027179, 0.55133719,\n",
      "        0.32288248, 0.39      ],\n",
      "       [0.12756129, 0.11594404, 0.37301085, 0.2133143 , 0.62920638,\n",
      "        0.39453161, 0.4       ],\n",
      "       [0.11235437, 0.13490303, 0.30312235, 0.21025704, 0.52545995,\n",
      "        0.39703183, 0.42      ],\n",
      "       [0.13251946, 0.13712141, 0.581556  , 0.3860066 , 0.59910682,\n",
      "        0.65644346, 0.41      ],\n",
      "       [0.13211625, 0.14390409, 0.54113366, 0.34720065, 0.60628302,\n",
      "        0.74590202, 0.43      ],\n",
      "       [0.14209631, 0.16589645, 0.32830187, 0.29147211, 0.68572269,\n",
      "        0.66642434, 0.43      ],\n",
      "       [0.16238159, 0.15786646, 0.379198  , 0.3408462 , 0.63699355,\n",
      "        0.68032683, 0.42      ],\n",
      "       [0.15349788, 0.16160157, 0.42859974, 0.32870884, 0.53291106,\n",
      "        0.8061644 , 0.43      ],\n",
      "       [0.15168724, 0.14208264, 0.41352664, 0.32200838, 0.40940744,\n",
      "        0.82205154, 0.48      ],\n",
      "       [0.14070995, 0.12267004, 0.57334678, 0.34019625, 0.50456341,\n",
      "        0.69249814, 0.43      ],\n",
      "       [0.11956878, 0.13620001, 0.48643788, 0.29611768, 0.5528359 ,\n",
      "        0.42747082, 0.44      ],\n",
      "       [0.13152215, 0.11758829, 0.49883822, 0.31981411, 0.52780294,\n",
      "        0.55437585, 0.47      ],\n",
      "       [0.11548066, 0.13591649, 0.46586964, 0.28858324, 0.61677759,\n",
      "        0.76604525, 0.47      ],\n",
      "       [0.13389866, 0.15659777, 0.52183489, 0.30382317, 0.50548638,\n",
      "        0.80749524, 0.52      ],\n",
      "       [0.15239462, 0.15055923, 0.41124442, 0.29121912, 0.49522253,\n",
      "        0.95316496, 0.53      ],\n",
      "       [0.14856803, 0.16545002, 0.47976699, 0.29610106, 0.50600134,\n",
      "        0.65216689, 0.52      ],\n",
      "       [0.16188652, 0.16045332, 0.39170535, 0.25484757, 0.66042208,\n",
      "        0.70751304, 0.53      ],\n",
      "       [0.15565517, 0.15426597, 0.52085781, 0.30093276, 0.4924548 ,\n",
      "        0.81496256, 0.53      ],\n",
      "       [0.15276226, 0.16975217, 0.43701032, 0.32906223, 0.49093154,\n",
      "        0.78421885, 0.52      ],\n",
      "       [0.16632129, 0.1697096 , 0.37045739, 0.3472617 , 0.57578296,\n",
      "        0.63366713, 0.5       ],\n",
      "       [0.16733268, 0.18384907, 0.4444073 , 0.32257307, 0.58324212,\n",
      "        0.62608605, 0.48      ],\n",
      "       [0.18062993, 0.18988052, 0.47303904, 0.33209545, 0.53184631,\n",
      "        0.72767989, 0.5       ],\n",
      "       [0.18606901, 0.19225489, 0.45055996, 0.2589593 , 0.53637221,\n",
      "        0.62336652, 0.53      ],\n",
      "       [0.18797161, 0.19178701, 0.58889898, 0.31408682, 0.64778751,\n",
      "        0.68725154, 0.53      ],\n",
      "       [0.18803533, 0.19020652, 0.36626897, 0.29799333, 0.41701014,\n",
      "        0.73413874, 0.56      ],\n",
      "       [0.18690358, 0.19931399, 0.36753378, 0.32501911, 0.5000302 ,\n",
      "        0.55212277, 0.57      ],\n",
      "       [0.1955186 , 0.19886029, 0.4352447 , 0.32821356, 0.57643367,\n",
      "        0.76476773, 0.54      ],\n",
      "       [0.19500229, 0.20298525, 0.51462305, 0.34505371, 0.35922778,\n",
      "        0.62801722, 0.54      ],\n",
      "       [0.1993875 , 0.20183717, 0.5392091 , 0.33707286, 0.55560273,\n",
      "        0.613586  , 0.54      ],\n",
      "       [0.19840426, 0.1996258 , 0.41790448, 0.32188514, 0.51277833,\n",
      "        0.41695281, 0.61      ],\n",
      "       [0.19626113, 0.19520322, 0.36236264, 0.29741922, 0.38773734,\n",
      "        0.56626381, 0.65      ],\n",
      "       [0.19226496, 0.2043389 , 0.35841937, 0.39317727, 0.55750108,\n",
      "        0.51840605, 0.65      ],\n",
      "       [0.19971283, 0.19752793, 0.57557418, 0.37036916, 0.55273795,\n",
      "        0.37143243, 0.68      ],\n",
      "       [0.19402612, 0.19097202, 0.34696431, 0.31225402, 0.49986277,\n",
      "        0.46993246, 0.69      ],\n",
      "       [0.18753317, 0.19275098, 0.32016934, 0.29333357, 0.45909541,\n",
      "        0.53009283, 0.66      ],\n",
      "       [0.18920938, 0.17164447, 0.35461683, 0.28023637, 0.43368845,\n",
      "        0.51093196, 0.65      ],\n",
      "       [0.16893826, 0.17743488, 0.30790814, 0.30615588, 0.48030121,\n",
      "        0.58285822, 0.58      ],\n",
      "       [0.17168958, 0.15243743, 0.31201276, 0.29222246, 0.51158131,\n",
      "        0.52262876, 0.55      ],\n",
      "       [0.14944507, 0.14965911, 0.38222764, 0.33023557, 0.51540565,\n",
      "        0.49375549, 0.54      ],\n",
      "       [0.14690589, 0.16788098, 0.4194186 , 0.37557103, 0.3696429 ,\n",
      "        0.59352829, 0.53      ],\n",
      "       [0.16349918, 0.15898616, 0.414928  , 0.41195879, 0.43615503,\n",
      "        0.55890609, 0.51      ],\n",
      "       [0.15698498, 0.17868228, 0.24872338, 0.3594873 , 0.43267894,\n",
      "        0.67513438, 0.47      ],\n",
      "       [0.17483719, 0.1737849 , 0.32299039, 0.34848981, 0.42289277,\n",
      "        0.46705171, 0.46      ],\n",
      "       [0.16935563, 0.19165948, 0.48498422, 0.37789372, 0.49623136,\n",
      "        0.58844663, 0.52      ],\n",
      "       [0.1876392 , 0.18440901, 0.57088037, 0.39246254, 0.43452076,\n",
      "        0.54345682, 0.61      ],\n",
      "       [0.1817192 , 0.19775478, 0.5182879 , 0.37777082, 0.49386686,\n",
      "        0.41276719, 0.58      ],\n",
      "       [0.19421711, 0.19514647, 0.43173013, 0.3969918 , 0.58230292,\n",
      "        0.56070957, 0.57      ],\n",
      "       [0.19135251, 0.1859895 , 0.34040203, 0.431737  , 0.47451633,\n",
      "        0.54062693, 0.59      ],\n",
      "       [0.18368551, 0.16440818, 0.44441848, 0.09711911, 0.52342029,\n",
      "        0.53646626, 0.63      ],\n",
      "       [0.16023137, 0.16093522, 0.53682564, 0.41042091, 0.54631243,\n",
      "        0.73214403, 0.62      ],\n",
      "       [0.15728907, 0.1643869 , 0.4196645 , 0.48344248, 0.84862034,\n",
      "        0.63570785, 0.58      ],\n",
      "       [0.16318093, 0.18226149, 0.51083553, 0.47365944, 0.47233791,\n",
      "        0.65055072, 0.55      ]]), array([[0.15634123, 0.13572511, 0.51516898, 0.33666389, 0.55575535,\n",
      "        0.96148548, 0.46      ],\n",
      "       [0.13350262, 0.12298894, 0.42063351, 0.3662851 , 0.54775272,\n",
      "        1.        , 0.38      ],\n",
      "       [0.12176148, 0.1394957 , 0.24616847, 0.35658958, 0.59300359,\n",
      "        0.84537092, 0.39      ],\n",
      "       [0.13948634, 0.16518061, 0.38613833, 0.38855041, 0.71565298,\n",
      "        0.67535736, 0.44      ],\n",
      "       [0.162714  , 0.15289813, 0.41288599, 0.34129285, 0.55108639,\n",
      "        0.5906138 , 0.44      ],\n",
      "       [0.15046363, 0.14116833, 0.51127246, 0.35723595, 0.72494744,\n",
      "        0.55805795, 0.39      ],\n",
      "       [0.1401724 , 0.1374616 , 0.49764671, 0.36572394, 0.67943294,\n",
      "        0.60776981, 0.36      ],\n",
      "       [0.13085025, 0.12912672, 0.42135848, 0.27027179, 0.55133719,\n",
      "        0.32288248, 0.39      ],\n",
      "       [0.12756129, 0.11594404, 0.37301085, 0.2133143 , 0.62920638,\n",
      "        0.39453161, 0.4       ],\n",
      "       [0.11235437, 0.13490303, 0.30312235, 0.21025704, 0.52545995,\n",
      "        0.39703183, 0.42      ],\n",
      "       [0.13251946, 0.13712141, 0.581556  , 0.3860066 , 0.59910682,\n",
      "        0.65644346, 0.41      ],\n",
      "       [0.13211625, 0.14390409, 0.54113366, 0.34720065, 0.60628302,\n",
      "        0.74590202, 0.43      ],\n",
      "       [0.14209631, 0.16589645, 0.32830187, 0.29147211, 0.68572269,\n",
      "        0.66642434, 0.43      ],\n",
      "       [0.16238159, 0.15786646, 0.379198  , 0.3408462 , 0.63699355,\n",
      "        0.68032683, 0.42      ],\n",
      "       [0.15349788, 0.16160157, 0.42859974, 0.32870884, 0.53291106,\n",
      "        0.8061644 , 0.43      ],\n",
      "       [0.15168724, 0.14208264, 0.41352664, 0.32200838, 0.40940744,\n",
      "        0.82205154, 0.48      ],\n",
      "       [0.14070995, 0.12267004, 0.57334678, 0.34019625, 0.50456341,\n",
      "        0.69249814, 0.43      ],\n",
      "       [0.11956878, 0.13620001, 0.48643788, 0.29611768, 0.5528359 ,\n",
      "        0.42747082, 0.44      ],\n",
      "       [0.13152215, 0.11758829, 0.49883822, 0.31981411, 0.52780294,\n",
      "        0.55437585, 0.47      ],\n",
      "       [0.11548066, 0.13591649, 0.46586964, 0.28858324, 0.61677759,\n",
      "        0.76604525, 0.47      ],\n",
      "       [0.13389866, 0.15659777, 0.52183489, 0.30382317, 0.50548638,\n",
      "        0.80749524, 0.52      ],\n",
      "       [0.15239462, 0.15055923, 0.41124442, 0.29121912, 0.49522253,\n",
      "        0.95316496, 0.53      ],\n",
      "       [0.14856803, 0.16545002, 0.47976699, 0.29610106, 0.50600134,\n",
      "        0.65216689, 0.52      ],\n",
      "       [0.16188652, 0.16045332, 0.39170535, 0.25484757, 0.66042208,\n",
      "        0.70751304, 0.53      ],\n",
      "       [0.15565517, 0.15426597, 0.52085781, 0.30093276, 0.4924548 ,\n",
      "        0.81496256, 0.53      ],\n",
      "       [0.15276226, 0.16975217, 0.43701032, 0.32906223, 0.49093154,\n",
      "        0.78421885, 0.52      ],\n",
      "       [0.16632129, 0.1697096 , 0.37045739, 0.3472617 , 0.57578296,\n",
      "        0.63366713, 0.5       ],\n",
      "       [0.16733268, 0.18384907, 0.4444073 , 0.32257307, 0.58324212,\n",
      "        0.62608605, 0.48      ],\n",
      "       [0.18062993, 0.18988052, 0.47303904, 0.33209545, 0.53184631,\n",
      "        0.72767989, 0.5       ],\n",
      "       [0.18606901, 0.19225489, 0.45055996, 0.2589593 , 0.53637221,\n",
      "        0.62336652, 0.53      ],\n",
      "       [0.18797161, 0.19178701, 0.58889898, 0.31408682, 0.64778751,\n",
      "        0.68725154, 0.53      ],\n",
      "       [0.18803533, 0.19020652, 0.36626897, 0.29799333, 0.41701014,\n",
      "        0.73413874, 0.56      ],\n",
      "       [0.18690358, 0.19931399, 0.36753378, 0.32501911, 0.5000302 ,\n",
      "        0.55212277, 0.57      ],\n",
      "       [0.1955186 , 0.19886029, 0.4352447 , 0.32821356, 0.57643367,\n",
      "        0.76476773, 0.54      ],\n",
      "       [0.19500229, 0.20298525, 0.51462305, 0.34505371, 0.35922778,\n",
      "        0.62801722, 0.54      ],\n",
      "       [0.1993875 , 0.20183717, 0.5392091 , 0.33707286, 0.55560273,\n",
      "        0.613586  , 0.54      ],\n",
      "       [0.19840426, 0.1996258 , 0.41790448, 0.32188514, 0.51277833,\n",
      "        0.41695281, 0.61      ],\n",
      "       [0.19626113, 0.19520322, 0.36236264, 0.29741922, 0.38773734,\n",
      "        0.56626381, 0.65      ],\n",
      "       [0.19226496, 0.2043389 , 0.35841937, 0.39317727, 0.55750108,\n",
      "        0.51840605, 0.65      ],\n",
      "       [0.19971283, 0.19752793, 0.57557418, 0.37036916, 0.55273795,\n",
      "        0.37143243, 0.68      ],\n",
      "       [0.19402612, 0.19097202, 0.34696431, 0.31225402, 0.49986277,\n",
      "        0.46993246, 0.69      ],\n",
      "       [0.18753317, 0.19275098, 0.32016934, 0.29333357, 0.45909541,\n",
      "        0.53009283, 0.66      ],\n",
      "       [0.18920938, 0.17164447, 0.35461683, 0.28023637, 0.43368845,\n",
      "        0.51093196, 0.65      ],\n",
      "       [0.16893826, 0.17743488, 0.30790814, 0.30615588, 0.48030121,\n",
      "        0.58285822, 0.58      ],\n",
      "       [0.17168958, 0.15243743, 0.31201276, 0.29222246, 0.51158131,\n",
      "        0.52262876, 0.55      ],\n",
      "       [0.14944507, 0.14965911, 0.38222764, 0.33023557, 0.51540565,\n",
      "        0.49375549, 0.54      ],\n",
      "       [0.14690589, 0.16788098, 0.4194186 , 0.37557103, 0.3696429 ,\n",
      "        0.59352829, 0.53      ],\n",
      "       [0.16349918, 0.15898616, 0.414928  , 0.41195879, 0.43615503,\n",
      "        0.55890609, 0.51      ],\n",
      "       [0.15698498, 0.17868228, 0.24872338, 0.3594873 , 0.43267894,\n",
      "        0.67513438, 0.47      ],\n",
      "       [0.17483719, 0.1737849 , 0.32299039, 0.34848981, 0.42289277,\n",
      "        0.46705171, 0.46      ],\n",
      "       [0.16935563, 0.19165948, 0.48498422, 0.37789372, 0.49623136,\n",
      "        0.58844663, 0.52      ],\n",
      "       [0.1876392 , 0.18440901, 0.57088037, 0.39246254, 0.43452076,\n",
      "        0.54345682, 0.61      ],\n",
      "       [0.1817192 , 0.19775478, 0.5182879 , 0.37777082, 0.49386686,\n",
      "        0.41276719, 0.58      ],\n",
      "       [0.19421711, 0.19514647, 0.43173013, 0.3969918 , 0.58230292,\n",
      "        0.56070957, 0.57      ],\n",
      "       [0.19135251, 0.1859895 , 0.34040203, 0.431737  , 0.47451633,\n",
      "        0.54062693, 0.59      ],\n",
      "       [0.18368551, 0.16440818, 0.44441848, 0.09711911, 0.52342029,\n",
      "        0.53646626, 0.63      ],\n",
      "       [0.16023137, 0.16093522, 0.53682564, 0.41042091, 0.54631243,\n",
      "        0.73214403, 0.62      ],\n",
      "       [0.15728907, 0.1643869 , 0.4196645 , 0.48344248, 0.84862034,\n",
      "        0.63570785, 0.58      ],\n",
      "       [0.16318093, 0.18226149, 0.51083553, 0.47365944, 0.47233791,\n",
      "        0.65055072, 0.55      ],\n",
      "       [0.17728442, 0.1692559 , 0.38225821, 0.45509067, 0.50872211,\n",
      "        0.66743408, 0.58      ]])]\n",
      "[array([0.1692559]), array([0.16344421])]\n"
     ]
    }
   ],
   "source": [
    "#Create the training dataset\n",
    "train_data = data.iloc[:training_data_len,:]\n",
    "#Split the data into x_train and y_train data sets\n",
    "x_train = []\n",
    "y_train = []\n",
    "\n",
    "for i in range(60,len(train_data)):\n",
    "    x_train.append(train_data[i-60:i][features].values)\n",
    "    y_train.append(train_data[i:i+1]['Close'].values)\n",
    "    if i<=61:\n",
    "        print(x_train)\n",
    "        print(y_train)\n"
   ]
  },
  {
   "cell_type": "code",
   "execution_count": 40,
   "id": "51ea13da",
   "metadata": {},
   "outputs": [],
   "source": [
    "#Convert x_train and y_train to numpy arrays\n",
    "x_train, y_train = np.array(x_train), np.array(y_train)"
   ]
  },
  {
   "cell_type": "code",
   "execution_count": 41,
   "id": "3c9eb863",
   "metadata": {},
   "outputs": [],
   "source": [
    "np.random.seed(123)"
   ]
  },
  {
   "cell_type": "code",
   "execution_count": 42,
   "id": "0fa7e2db",
   "metadata": {},
   "outputs": [],
   "source": [
    "model = Sequential()\n",
    "model.add(LSTM(50, return_sequences=True, input_shape = (x_train.shape[1],len(features))))\n",
    "model.add(Dropout(0.2))\n",
    "model.add(LSTM(50,return_sequences=False))\n",
    "model.add(Dense(25))\n",
    "model.add(Dense(1))"
   ]
  },
  {
   "cell_type": "code",
   "execution_count": 43,
   "id": "12d813a4",
   "metadata": {},
   "outputs": [],
   "source": [
    "#Compile the model\n",
    "optimizer = keras.optimizers.Adam(learning_rate=0.01)\n",
    "model.compile(optimizer=optimizer,loss='mean_squared_error')"
   ]
  },
  {
   "cell_type": "code",
   "execution_count": 44,
   "id": "14be0a30",
   "metadata": {},
   "outputs": [],
   "source": [
    "es = tensorflow.keras.callbacks.EarlyStopping(monitor = 'loss', patience = 15, restore_best_weights = True)"
   ]
  },
  {
   "cell_type": "code",
   "execution_count": 45,
   "id": "b057a3bd",
   "metadata": {},
   "outputs": [
    {
     "name": "stdout",
     "output_type": "stream",
     "text": [
      "Epoch 1/10\n",
      "54/54 [==============================] - 6s 48ms/step - loss: 0.0373 - val_loss: 0.0027\n",
      "Epoch 2/10\n",
      "54/54 [==============================] - 2s 37ms/step - loss: 0.0011 - val_loss: 0.0026\n",
      "Epoch 3/10\n",
      "54/54 [==============================] - 2s 38ms/step - loss: 0.0011 - val_loss: 0.0020\n",
      "Epoch 4/10\n",
      "54/54 [==============================] - 2s 37ms/step - loss: 9.7125e-04 - val_loss: 0.0019\n",
      "Epoch 5/10\n",
      "54/54 [==============================] - 2s 36ms/step - loss: 0.0010 - val_loss: 0.0016\n",
      "Epoch 6/10\n",
      "54/54 [==============================] - 2s 36ms/step - loss: 7.7646e-04 - val_loss: 0.0023\n",
      "Epoch 7/10\n",
      "54/54 [==============================] - 2s 35ms/step - loss: 7.4367e-04 - val_loss: 0.0025\n",
      "Epoch 8/10\n",
      "54/54 [==============================] - 2s 35ms/step - loss: 0.0018 - val_loss: 0.0023\n",
      "Epoch 9/10\n",
      "54/54 [==============================] - 2s 35ms/step - loss: 7.8569e-04 - val_loss: 0.0013\n",
      "Epoch 10/10\n",
      "54/54 [==============================] - 2s 38ms/step - loss: 7.3734e-04 - val_loss: 0.0019\n"
     ]
    },
    {
     "data": {
      "text/plain": [
       "<keras.callbacks.History at 0x1a210db83d0>"
      ]
     },
     "execution_count": 45,
     "metadata": {},
     "output_type": "execute_result"
    }
   ],
   "source": [
    "#Train the model\n",
    "model.fit(x_train,y_train,batch_size = 16, validation_split = 0.2, epochs = 10, callbacks = [es])"
   ]
  },
  {
   "cell_type": "code",
   "execution_count": 46,
   "id": "dcb3efd8",
   "metadata": {},
   "outputs": [
    {
     "data": {
      "text/plain": [
       "<AxesSubplot:>"
      ]
     },
     "execution_count": 46,
     "metadata": {},
     "output_type": "execute_result"
    },
    {
     "data": {
      "image/png": "[encoded data removed]",
      "text/plain": [
       "<Figure size 640x480 with 1 Axes>"
      ]
     },
     "metadata": {},
     "output_type": "display_data"
    }
   ],
   "source": [
    "loss = pd.DataFrame(model.history.history)\n",
    "loss.plot()"
   ]
  },
  {
   "cell_type": "code",
   "execution_count": 47,
   "id": "a99d14cd",
   "metadata": {},
   "outputs": [],
   "source": [
    "#Create the testing data set\n",
    "#Create a new array containing scaled values from last 60 index\n",
    "test_data = data.iloc[training_data_len - 60: , :]\n",
    "#Create the data sets x_test and y_test\n",
    "x_test = []\n",
    "y_test = dataset[training_data_len-60:, :]\n",
    "for i in range(60, len(test_data)):\n",
    "    x_test.append(test_data[i-60:i][features].values)"
   ]
  },
  {
   "cell_type": "code",
   "execution_count": 48,
   "id": "28cf32f1",
   "metadata": {},
   "outputs": [],
   "source": [
    "#Convert the data to a numpy array\n",
    "x_test = np.array(x_test)"
   ]
  },
  {
   "cell_type": "code",
   "execution_count": 49,
   "id": "b2f90dc1",
   "metadata": {},
   "outputs": [
    {
     "name": "stdout",
     "output_type": "stream",
     "text": [
      "4/4 [==============================] - 1s 17ms/step\n"
     ]
    }
   ],
   "source": [
    "#Get the models predicted price values\n",
    "predictions = model.predict(x_test)"
   ]
  },
  {
   "cell_type": "code",
   "execution_count": 50,
   "id": "631a03fd",
   "metadata": {},
   "outputs": [],
   "source": [
    "predicted1 = np.repeat(predictions, len(features), axis = -1)\n",
    "predicted_descaled= scaler.inverse_transform(predicted1)[:, 0]"
   ]
  },
  {
   "cell_type": "code",
   "execution_count": 51,
   "id": "f4787726",
   "metadata": {},
   "outputs": [
    {
     "name": "stdout",
     "output_type": "stream",
     "text": [
      "[*********************100%***********************]  1 of 1 completed\n"
     ]
    },
    {
     "data": {
      "text/html": [
       "<div>\n",
       "<style scoped>\n",
       "    .dataframe tbody tr th:only-of-type {\n",
       "        vertical-align: middle;\n",
       "    }\n",
       "\n",
       "    .dataframe tbody tr th {\n",
       "        vertical-align: top;\n",
       "    }\n",
       "\n",
       "    .dataframe thead th {\n",
       "        text-align: right;\n",
       "    }\n",
       "</style>\n",
       "<table border=\"1\" class=\"dataframe\">\n",
       "  <thead>\n",
       "    <tr style=\"text-align: right;\">\n",
       "      <th></th>\n",
       "      <th>Open</th>\n",
       "      <th>High</th>\n",
       "      <th>Low</th>\n",
       "      <th>Close</th>\n",
       "      <th>Adj Close</th>\n",
       "      <th>Volume</th>\n",
       "    </tr>\n",
       "    <tr>\n",
       "      <th>Date</th>\n",
       "      <th></th>\n",
       "      <th></th>\n",
       "      <th></th>\n",
       "      <th></th>\n",
       "      <th></th>\n",
       "      <th></th>\n",
       "    </tr>\n",
       "  </thead>\n",
       "  <tbody>\n",
       "    <tr>\n",
       "      <th>2015-01-02</th>\n",
       "      <td>2058.899902</td>\n",
       "      <td>2072.360107</td>\n",
       "      <td>2046.040039</td>\n",
       "      <td>2058.199951</td>\n",
       "      <td>2058.199951</td>\n",
       "      <td>2708700000</td>\n",
       "    </tr>\n",
       "    <tr>\n",
       "      <th>2015-01-05</th>\n",
       "      <td>2054.439941</td>\n",
       "      <td>2054.439941</td>\n",
       "      <td>2017.339966</td>\n",
       "      <td>2020.579956</td>\n",
       "      <td>2020.579956</td>\n",
       "      <td>3799120000</td>\n",
       "    </tr>\n",
       "    <tr>\n",
       "      <th>2015-01-06</th>\n",
       "      <td>2022.150024</td>\n",
       "      <td>2030.250000</td>\n",
       "      <td>1992.439941</td>\n",
       "      <td>2002.609985</td>\n",
       "      <td>2002.609985</td>\n",
       "      <td>4460110000</td>\n",
       "    </tr>\n",
       "    <tr>\n",
       "      <th>2015-01-07</th>\n",
       "      <td>2005.550049</td>\n",
       "      <td>2029.609985</td>\n",
       "      <td>2005.550049</td>\n",
       "      <td>2025.900024</td>\n",
       "      <td>2025.900024</td>\n",
       "      <td>3805480000</td>\n",
       "    </tr>\n",
       "    <tr>\n",
       "      <th>2015-01-08</th>\n",
       "      <td>2030.609985</td>\n",
       "      <td>2064.080078</td>\n",
       "      <td>2030.609985</td>\n",
       "      <td>2062.139893</td>\n",
       "      <td>2062.139893</td>\n",
       "      <td>3934010000</td>\n",
       "    </tr>\n",
       "  </tbody>\n",
       "</table>\n",
       "</div>"
      ],
      "text/plain": [
       "                   Open         High          Low        Close    Adj Close  \\\n",
       "Date                                                                          \n",
       "2015-01-02  2058.899902  2072.360107  2046.040039  2058.199951  2058.199951   \n",
       "2015-01-05  2054.439941  2054.439941  2017.339966  2020.579956  2020.579956   \n",
       "2015-01-06  2022.150024  2030.250000  1992.439941  2002.609985  2002.609985   \n",
       "2015-01-07  2005.550049  2029.609985  2005.550049  2025.900024  2025.900024   \n",
       "2015-01-08  2030.609985  2064.080078  2030.609985  2062.139893  2062.139893   \n",
       "\n",
       "                Volume  \n",
       "Date                    \n",
       "2015-01-02  2708700000  \n",
       "2015-01-05  3799120000  \n",
       "2015-01-06  4460110000  \n",
       "2015-01-07  3805480000  \n",
       "2015-01-08  3934010000  "
      ]
     },
     "execution_count": 51,
     "metadata": {},
     "output_type": "execute_result"
    }
   ],
   "source": [
    "symbol = \"^GSPC\"\n",
    "df1 = yf.download(symbol, start='2015-01-01', end='2019-12-31',interval = \"1d\")\n",
    "df1.head()"
   ]
  },
  {
   "cell_type": "code",
   "execution_count": 52,
   "id": "02727e58",
   "metadata": {},
   "outputs": [],
   "source": [
    "y_test = df1.iloc[training_data_len:, :]"
   ]
  },
  {
   "cell_type": "code",
   "execution_count": 53,
   "id": "3e8c5046",
   "metadata": {},
   "outputs": [],
   "source": [
    "y_test = y_test['Close']"
   ]
  },
  {
   "cell_type": "code",
   "execution_count": 54,
   "id": "1f306dbb",
   "metadata": {},
   "outputs": [
    {
     "data": {
      "text/plain": [
       "(125,)"
      ]
     },
     "execution_count": 54,
     "metadata": {},
     "output_type": "execute_result"
    }
   ],
   "source": [
    "predicted_descaled.shape"
   ]
  },
  {
   "cell_type": "code",
   "execution_count": 56,
   "id": "a3343185",
   "metadata": {},
   "outputs": [
    {
     "data": {
      "text/plain": [
       "54.77330675607534"
      ]
     },
     "execution_count": 56,
     "metadata": {},
     "output_type": "execute_result"
    }
   ],
   "source": [
    "mse = sklearn.metrics.mean_squared_error(y_test, predicted_descaled)\n",
    "rmse = math.sqrt(mse)\n",
    "rmse"
   ]
  },
  {
   "cell_type": "code",
   "execution_count": 57,
   "id": "81427bd1",
   "metadata": {},
   "outputs": [
    {
     "name": "stdout",
     "output_type": "stream",
     "text": [
      "mape =  1.4949808728802294\n"
     ]
    }
   ],
   "source": [
    "def print_mean_absolute_percentage_error(y_test, predicted_descaled): \n",
    "    mape = np.mean(np.abs((y_test - predicted_descaled) / y_test)) * 100\n",
    "    print('mape = ', mape)\n",
    "\n",
    "print_mean_absolute_percentage_error(y_test, predicted_descaled)"
   ]
  },
  {
   "cell_type": "code",
   "execution_count": 58,
   "id": "e9899157",
   "metadata": {},
   "outputs": [
    {
     "data": {
      "image/png": "[encoded data removed]",
      "text/plain": [
       "<Figure size 1600x800 with 1 Axes>"
      ]
     },
     "metadata": {},
     "output_type": "display_data"
    }
   ],
   "source": [
    "#Plot the data\n",
    "data_set = df1.filter(['Close'])\n",
    "train = data_set[:training_data_len]\n",
    "valid = data_set[training_data_len:]\n",
    "valid['Predictions'] = predicted_descaled\n",
    "#Visualize the data\n",
    "plt.figure(figsize=(16,8))\n",
    "plt.title('Model')\n",
    "plt.xlabel('Date', fontsize=18)\n",
    "plt.ylabel('Close Price USD', fontsize=18)\n",
    "plt.plot(train['Close'])\n",
    "plt.plot(valid[['Close','Predictions']])\n",
    "plt.legend(['Train','Val','predictions'])\n",
    "plt.show()"
   ]
  },
  {
   "cell_type": "code",
   "execution_count": 59,
   "id": "b3878d88",
   "metadata": {},
   "outputs": [],
   "source": [
    "#Grid Search\n",
    "from sklearn.model_selection import GridSearchCV\n",
    "from keras.models import Sequential\n",
    "from keras.layers import Dense\n",
    "from keras.wrappers.scikit_learn import KerasRegressor"
   ]
  },
  {
   "cell_type": "code",
   "execution_count": 60,
   "id": "98e13e6c",
   "metadata": {},
   "outputs": [],
   "source": [
    "# # Function to create model, required for KerasClassifier\n",
    "def create_model(dropout_rate = 0.0):\n",
    "    # create model\n",
    "    model = Sequential()\n",
    "    model.add(LSTM(50, return_sequences=True, input_shape = (x_train.shape[1],len(features))))\n",
    "    model.add(Dropout(dropout_rate))\n",
    "    model.add(LSTM(50,return_sequences=False))\n",
    "    model.add(Dense(25))\n",
    "    model.add(Dense(1))\n",
    "    model.compile(loss = 'mean_squared_error', optimizer='adam',metrics = ['accuracy'])\n",
    "# print(model.summary())\n",
    "    return model"
   ]
  },
  {
   "cell_type": "code",
   "execution_count": 62,
   "id": "b431e944",
   "metadata": {},
   "outputs": [
    {
     "name": "stdout",
     "output_type": "stream",
     "text": [
      "Epoch 1/50\n",
      "67/67 [==============================] - 5s 31ms/step - loss: 0.0171 - accuracy: 9.3284e-04\n",
      "Epoch 2/50\n",
      "67/67 [==============================] - 2s 29ms/step - loss: 0.0015 - accuracy: 9.3284e-04\n",
      "Epoch 3/50\n",
      "67/67 [==============================] - 2s 29ms/step - loss: 0.0014 - accuracy: 9.3284e-04\n",
      "Epoch 4/50\n",
      "67/67 [==============================] - 2s 29ms/step - loss: 0.0012 - accuracy: 9.3284e-04\n",
      "Epoch 5/50\n",
      "67/67 [==============================] - 2s 29ms/step - loss: 0.0013 - accuracy: 9.3284e-04\n",
      "Epoch 6/50\n",
      "67/67 [==============================] - 2s 30ms/step - loss: 0.0012 - accuracy: 9.3284e-04\n",
      "Epoch 7/50\n",
      "67/67 [==============================] - 2s 29ms/step - loss: 0.0012 - accuracy: 9.3284e-04\n",
      "Epoch 8/50\n",
      "67/67 [==============================] - 2s 31ms/step - loss: 0.0012 - accuracy: 9.3284e-04\n",
      "Epoch 9/50\n",
      "67/67 [==============================] - 2s 31ms/step - loss: 0.0011 - accuracy: 9.3284e-04\n",
      "Epoch 10/50\n",
      "67/67 [==============================] - 2s 32ms/step - loss: 0.0011 - accuracy: 9.3284e-04\n",
      "Epoch 11/50\n",
      "67/67 [==============================] - 2s 31ms/step - loss: 9.3084e-04 - accuracy: 9.3284e-04\n",
      "Epoch 12/50\n",
      "67/67 [==============================] - 2s 29ms/step - loss: 0.0010 - accuracy: 9.3284e-04\n",
      "Epoch 13/50\n",
      "67/67 [==============================] - 2s 30ms/step - loss: 8.9583e-04 - accuracy: 9.3284e-04\n",
      "Epoch 14/50\n",
      "67/67 [==============================] - 2s 30ms/step - loss: 9.7865e-04 - accuracy: 9.3284e-04\n",
      "Epoch 15/50\n",
      "67/67 [==============================] - 2s 29ms/step - loss: 9.7403e-04 - accuracy: 9.3284e-04\n",
      "Epoch 16/50\n",
      "67/67 [==============================] - 2s 32ms/step - loss: 9.9230e-04 - accuracy: 9.3284e-04\n",
      "Epoch 17/50\n",
      "67/67 [==============================] - 2s 31ms/step - loss: 9.1514e-04 - accuracy: 9.3284e-04\n",
      "Epoch 18/50\n",
      "67/67 [==============================] - 2s 32ms/step - loss: 9.8587e-04 - accuracy: 9.3284e-04\n",
      "Epoch 19/50\n",
      "67/67 [==============================] - 2s 30ms/step - loss: 9.9008e-04 - accuracy: 9.3284e-04\n",
      "Epoch 20/50\n",
      "67/67 [==============================] - 2s 29ms/step - loss: 8.7630e-04 - accuracy: 9.3284e-04\n",
      "Epoch 21/50\n",
      "67/67 [==============================] - 2s 29ms/step - loss: 8.0758e-04 - accuracy: 9.3284e-04\n",
      "Epoch 22/50\n",
      "67/67 [==============================] - 2s 29ms/step - loss: 9.4822e-04 - accuracy: 9.3284e-04\n",
      "Epoch 23/50\n",
      "67/67 [==============================] - 2s 29ms/step - loss: 7.4942e-04 - accuracy: 9.3284e-04\n",
      "Epoch 24/50\n",
      "67/67 [==============================] - 2s 32ms/step - loss: 8.0954e-04 - accuracy: 9.3284e-04\n",
      "Epoch 25/50\n",
      "67/67 [==============================] - 2s 31ms/step - loss: 9.2750e-04 - accuracy: 9.3284e-04\n",
      "Epoch 26/50\n",
      "67/67 [==============================] - 2s 32ms/step - loss: 7.0000e-04 - accuracy: 9.3284e-04\n",
      "Epoch 27/50\n",
      "67/67 [==============================] - 2s 30ms/step - loss: 8.2211e-04 - accuracy: 9.3284e-04\n",
      "Epoch 28/50\n",
      "67/67 [==============================] - 2s 30ms/step - loss: 7.7247e-04 - accuracy: 9.3284e-04\n",
      "Epoch 29/50\n",
      "67/67 [==============================] - 2s 29ms/step - loss: 7.2120e-04 - accuracy: 9.3284e-04\n",
      "Epoch 30/50\n",
      "67/67 [==============================] - 2s 29ms/step - loss: 6.9662e-04 - accuracy: 9.3284e-04\n",
      "Epoch 31/50\n",
      "67/67 [==============================] - 2s 30ms/step - loss: 8.0455e-04 - accuracy: 9.3284e-04\n",
      "Epoch 32/50\n",
      "67/67 [==============================] - 2s 32ms/step - loss: 6.9199e-04 - accuracy: 9.3284e-04\n",
      "Epoch 33/50\n",
      "67/67 [==============================] - 2s 32ms/step - loss: 7.9142e-04 - accuracy: 9.3284e-04\n",
      "Epoch 34/50\n",
      "67/67 [==============================] - 2s 32ms/step - loss: 5.9832e-04 - accuracy: 9.3284e-04\n",
      "Epoch 35/50\n",
      "67/67 [==============================] - 2s 30ms/step - loss: 6.8650e-04 - accuracy: 9.3284e-04\n",
      "Epoch 36/50\n",
      "67/67 [==============================] - 2s 29ms/step - loss: 6.2655e-04 - accuracy: 9.3284e-04\n",
      "Epoch 37/50\n",
      "67/67 [==============================] - 2s 30ms/step - loss: 5.9957e-04 - accuracy: 9.3284e-04\n",
      "Epoch 38/50\n",
      "67/67 [==============================] - 2s 34ms/step - loss: 6.5281e-04 - accuracy: 9.3284e-04\n",
      "Epoch 39/50\n",
      "67/67 [==============================] - 2s 31ms/step - loss: 6.0440e-04 - accuracy: 9.3284e-04\n",
      "Epoch 40/50\n",
      "67/67 [==============================] - 2s 31ms/step - loss: 6.0461e-04 - accuracy: 9.3284e-04\n",
      "Epoch 41/50\n",
      "67/67 [==============================] - 2s 32ms/step - loss: 5.5745e-04 - accuracy: 9.3284e-04\n",
      "Epoch 42/50\n",
      "67/67 [==============================] - 2s 31ms/step - loss: 5.6772e-04 - accuracy: 9.3284e-04\n",
      "Epoch 43/50\n",
      "67/67 [==============================] - 2s 29ms/step - loss: 5.5963e-04 - accuracy: 9.3284e-04\n",
      "Epoch 44/50\n",
      "67/67 [==============================] - 2s 30ms/step - loss: 5.8739e-04 - accuracy: 9.3284e-04\n",
      "Epoch 45/50\n",
      "67/67 [==============================] - 2s 30ms/step - loss: 5.8152e-04 - accuracy: 9.3284e-04\n",
      "Epoch 46/50\n",
      "67/67 [==============================] - 2s 30ms/step - loss: 5.4605e-04 - accuracy: 9.3284e-04\n",
      "Epoch 47/50\n",
      "67/67 [==============================] - 2s 33ms/step - loss: 5.5780e-04 - accuracy: 9.3284e-04\n",
      "Epoch 48/50\n",
      "67/67 [==============================] - 2s 31ms/step - loss: 4.9990e-04 - accuracy: 9.3284e-04\n",
      "Epoch 49/50\n",
      "67/67 [==============================] - 2s 32ms/step - loss: 5.2449e-04 - accuracy: 9.3284e-04\n",
      "Epoch 50/50\n",
      "67/67 [==============================] - 2s 31ms/step - loss: 5.3444e-04 - accuracy: 9.3284e-04\n",
      "Best: -0.000486 using {'dropout_rate': 0.1, 'epochs': 50}\n",
      "-0.001112 (0.000556) with: {'dropout_rate': 0.1, 'epochs': 10}\n",
      "-0.000486 (0.000256) with: {'dropout_rate': 0.1, 'epochs': 50}\n"
     ]
    }
   ],
   "source": [
    "# fix random seed for reproducibility\n",
    "seed = 128\n",
    "np.random.seed(seed)\n",
    "\n",
    "model = KerasRegressor(build_fn=create_model, verbose=1, batch_size=16)\n",
    "# define the grid search parameters\n",
    "# batch_size = [128]\n",
    "epochs = [10, 50]\n",
    "dropout_rate = [0.1]\n",
    "param_grid = dict(dropout_rate = dropout_rate,epochs = epochs)\n",
    "grid = GridSearchCV(estimator=model, param_grid=param_grid, n_jobs=-1)\n",
    "grid_result = grid.fit(x_train, y_train)\n",
    "# summarize results\n",
    "print(\"Best: %f using %s\" % (grid_result.best_score_, grid_result.best_params_))\n",
    "means = grid_result.cv_results_['mean_test_score']\n",
    "stds = grid_result.cv_results_['std_test_score']\n",
    "params = grid_result.cv_results_['params']\n",
    "for mean, stdev, param in zip(means, stds, params):\n",
    "    print(\"%f (%f) with: %r\" % (mean, stdev, param))"
   ]
  },
  {
   "cell_type": "code",
   "execution_count": null,
   "id": "c1ea0137",
   "metadata": {},
   "outputs": [],
   "source": []
  }
 ],
 "metadata": {
  "kernelspec": {
   "display_name": "Python 3 (ipykernel)",
   "language": "python",
   "name": "python3"
  },
  "language_info": {
   "codemirror_mode": {
    "name": "ipython",
    "version": 3
   },
   "file_extension": ".py",
   "mimetype": "text/x-python",
   "name": "python",
   "nbconvert_exporter": "python",
   "pygments_lexer": "ipython3",
   "version": "3.9.13"
  }
 },
 "nbformat": 4,
 "nbformat_minor": 5
}
